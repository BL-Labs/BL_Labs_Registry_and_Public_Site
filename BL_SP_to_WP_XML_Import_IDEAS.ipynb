{
 "cells": [
  {
   "cell_type": "markdown",
   "metadata": {},
   "source": [
    "# SharePoint to WordPress: Project Ideas\n",
    "\n",
    "This notebook generates an XML ready to be imported into WordPress, Project Ideas as products on WooCommerce, with all the Taxonomy of the Attributes associated with the Project Ideas encoded such as WordPress import requires."
   ]
  },
  {
   "cell_type": "code",
   "execution_count": 67,
   "metadata": {},
   "outputs": [],
   "source": [
    "import pandas as pd\n",
    "import json"
   ]
  },
  {
   "cell_type": "code",
   "execution_count": 68,
   "metadata": {},
   "outputs": [],
   "source": [
    "filename = \"2. Completed Projects.csv\"  #   same as Completed Projects -- we will only be using the ones IDEA fields\n",
    "df = pd.read_csv(filename, low_memory=False)\n",
    "\n",
    "# Replace inline the NaN values by ''\n",
    "df.fillna('',inplace=True)"
   ]
  },
  {
   "cell_type": "code",
   "execution_count": 69,
   "metadata": {},
   "outputs": [
    {
     "data": {
      "text/plain": [
       "18"
      ]
     },
     "execution_count": 69,
     "metadata": {},
     "output_type": "execute_result"
    }
   ],
   "source": [
    "BL_SP_Fields = 'IDEA Project,IDEA Which Dataset,IDEA Entire Dataset or Part,IDEA Other Dataset Name,IDEA Intend Use,IDEA Your Skills,IDEA Start Date,IDEA Deadline,IDEA Project Details,IDEA Help Needed,IDEA Looking for Collaborators (Y/N),IDEA Looking for Collaborators / Partners,IDEA Promotion Needed,IDEA Funding Status,IDEA Funding Details,IDEA Submitted by,Institution,IDEA Current team members and/or partners'\n",
    "#Note: Attributes cannot have more than 28 chars!!\n",
    "WP_Import_Fields = 'idea_project,pa_idea_dataset,idea_dataset_ent_part,idea_other_dataset,pa_idea_intended_use,idea_your_skills,idea_start_date,idea_deadline,idea_details,idea_help_needed,pa_idea_looking_collaborator,idea_looking_collaborators,idea_promo_needed,pa_idea_funding_status,idea_funding_details,idea_submitted_by,idea_institution,idea_members_partners'\n",
    "Taxonomy = '0,1,0,0,1,0,0,0,0,0,1,0,0,1,0,0,0,0,0'\n",
    "\n",
    "BL_SP_Fields_Array = BL_SP_Fields.split(\",\")\n",
    "WP_Import_Fields_Array = WP_Import_Fields.split(\",\")\n",
    "Taxonomy_Array = Taxonomy.split(\",\")\n",
    "\n",
    "len(WP_Import_Fields_Array)"
   ]
  },
  {
   "cell_type": "code",
   "execution_count": 70,
   "metadata": {},
   "outputs": [],
   "source": [
    "def atributes(rec):\n",
    "\n",
    "    Atrib = '{'\n",
    "\n",
    "    natrib = 0 #number of attributes\n",
    "\n",
    "    i = 0\n",
    "    for field in WP_Import_Fields_Array:\n",
    "        if i > 0: #excluding the Title of the Project Idea\n",
    "            if str(df.iloc[rec][BL_SP_Fields_Array[i]]).replace(\"nan\", \"\") != '':\n",
    "                if Taxonomy_Array[i] == '1':\n",
    "                    Atrib += 's:' + str(len(field)) + ':\"' + field.replace(\" \", \"-\").lower() + '\";a:6:{s:4:\"name\";s:' + str(len(field)) + ':\"' + field.replace(\" \", \"-\").lower() + '\";s:5:\"value\";s:' + str(len(str(df.iloc[rec][BL_SP_Fields_Array[i]]).replace(\"nan\", \"\"))) + ':\"' + str(df.iloc[rec][BL_SP_Fields_Array[i]]).replace(\"nan\", \"\") + '\";s:8:\"position\";i:'+ str(natrib) +';s:10:\"is_visible\";i:1;s:12:\"is_variation\";i:0;s:11:\"is_taxonomy\";i:' + Taxonomy_Array[i] + ';}'\n",
    "                else:\n",
    "                    Atrib += 's:' + str(len(field)) + ':\"' + field.replace(\" \", \"-\").lower() + '\";a:6:{s:4:\"name\";s:' + str(len(BL_SP_Fields_Array[i].replace(\"IDEA \", \"\"))) + ':\"' + BL_SP_Fields_Array[i].replace(\"IDEA \", \"\") + '\";s:5:\"value\";s:' + str(len(str(df.iloc[rec][BL_SP_Fields_Array[i]]).replace(\"nan\", \"\"))) + ':\"' + str(df.iloc[rec][BL_SP_Fields_Array[i]]).replace(\"nan\", \"\") + '\";s:8:\"position\";i:'+ str(natrib) +';s:10:\"is_visible\";i:1;s:12:\"is_variation\";i:0;s:11:\"is_taxonomy\";i:' + Taxonomy_Array[i] + ';}'\n",
    "                natrib += 1\n",
    "        i += 1\n",
    "    \n",
    "    return Atrib,natrib"
   ]
  },
  {
   "cell_type": "code",
   "execution_count": null,
   "metadata": {},
   "outputs": [],
   "source": [
    "#df = df.reset_index()  # make sure indexes pair with number of rows\n",
    "\n",
    "i = 0\n",
    "for rec, row in df.iterrows():\n",
    "    print(i, row['IDEA Project'])\n",
    "    i += 1\n"
   ]
  },
  {
   "cell_type": "code",
   "execution_count": 72,
   "metadata": {},
   "outputs": [
    {
     "data": {
      "text/plain": [
       "('{', 0)"
      ]
     },
     "execution_count": 72,
     "metadata": {},
     "output_type": "execute_result"
    }
   ],
   "source": [
    "atributes(0)"
   ]
  },
  {
   "cell_type": "code",
   "execution_count": 73,
   "metadata": {},
   "outputs": [
    {
     "name": "stdout",
     "output_type": "stream",
     "text": [
      "Current date and time : \n",
      "Mon, 26 Dec 2022 13:21:05 +0000\n"
     ]
    }
   ],
   "source": [
    "# we need this for the PubDate of \"posts\" to import: <pubDate>Mon, 20 Jun 2022 15:48:09 +0000</pubDate>\n",
    "\n",
    "import datetime\n",
    "now = datetime.datetime.now()\n",
    "print (\"Current date and time : \")\n",
    "print (now.strftime(\"%a, %d %b %Y %H:%M:%S +0000\")) # see https://strftime.org/"
   ]
  },
  {
   "cell_type": "code",
   "execution_count": null,
   "metadata": {},
   "outputs": [],
   "source": [
    "XML = '<?xml version=\"1.0\" encoding=\"UTF-8\"?>\\n<rss version=\"2.0\" xmlns:excerpt=\"http://wordpress.org/export/1.2/excerpt/\" xmlns:content=\"http://purl.org/rss/1.0/modules/content/\" xmlns:wfw=\"http://wellformedweb.org/CommentAPI/\" xmlns:dc=\"http://purl.org/dc/elements/1.1/\" xmlns:wp=\"http://wordpress.org/export/1.2/\">\\n  <channel>\\n<title>BL Labs</title>\\n<link>http://labs.biblios.tech</link>\\n<description>Experiment with British Library\\'s Digital Collections and Data</description>\\n<pubDate>' + now.strftime(\"%a, %d %b %Y %H:%M:%S +0000\") + '</pubDate>\\n<language>en-GB</language>\\n<wp:wxr_version>1.2</wp:wxr_version>\\n<wp:base_site_url>http://labs.biblios.tech</wp:base_site_url>\\n<wp:base_blog_url>http://labs.biblios.tech</wp:base_blog_url>\\n<wp:author>\\n  <wp:author_id>1</wp:author_id>\\n  <wp:author_login>bladmin</wp:author_login>\\n  <wp:author_email>british.library.labs@gmail.com</wp:author_email>\\n  <wp:author_display_name><![CDATA[BL Labs]]></wp:author_display_name>\\n  <wp:author_first_name><![CDATA[BL]]></wp:author_first_name>\\n  <wp:author_last_name><![CDATA[labs]]></wp:author_last_name>\\n</wp:author>\\n<wp:author>\\n  <wp:author_id>2</wp:author_id>\\n  <wp:author_login>filipe</wp:author_login>\\n  <wp:author_email>filipe.bento@bl.uk</wp:author_email>\\n  <wp:author_display_name><![CDATA[Filipe Bento]]></wp:author_display_name>\\n  <wp:author_first_name><![CDATA[Filipe]]></wp:author_first_name>\\n  <wp:author_last_name><![CDATA[Bento]]></wp:author_last_name>\\n</wp:author>\\n'\n",
    "\n",
    "nrec = 0\n",
    "\n",
    "for rec, row in df.iterrows():\n",
    "    \n",
    "    if str(df.iloc[rec][\"IDEA Project\"]) != '': # excluding all the Completed Projects -- we just want the IDEAS\n",
    "    \n",
    "        print(nrec, row['IDEA Project'])\n",
    "\n",
    "        # Dataset Title\n",
    "        XML += '<item>\\n  <title><![CDATA['+ str(df.iloc[rec][\"IDEA Project\"]) +']]></title>\\n  <dc:creator>filipe</dc:creator>\\n'\n",
    "\n",
    "        # Short Description\n",
    "        # XML += '  <excerpt:encoded><![CDATA['+ str(df.iloc[rec][\"IDEA Project Details\"]) + '\\n\\n' + str(df.iloc[rec][\"Project Info\"]) +']]></excerpt:encoded>\\n'\n",
    "        XML += '  <excerpt:encoded><![CDATA['+ str(df.iloc[rec][\"IDEA Project Details\"])\n",
    "\n",
    "        XML += '  <wp:post_type><![CDATA[product]]></wp:post_type>\\n  <wp:status><![CDATA[publish]]></wp:status>\\n   <wp:comment_status>closed</wp:comment_status>\\n   <wp:is_sticky>0</wp:is_sticky>\\n'\n",
    "        XML += '  <category domain=\"product_cat\" nicename=\"ideas\"><![CDATA[Ideas]]></category>\\n'\n",
    "        XML += '  <category domain=\"product_type\" nicename=\"simple\"><![CDATA[simple]]></category>\\n'\n",
    "\n",
    "        # keywords / tags\n",
    "    #    kws = str(df.iloc[rec][\"Keywords\"]).split(\", \")\n",
    "    #    for kw in kws:\n",
    "    #        XML += '  <category domain=\"product_tag\" nicename=\"'+ kw.replace(\" \", \"\") + '\"><![CDATA['+ kw +']]></category>\\n'\n",
    "\n",
    "\n",
    "        ## Products Atributes used to FILTER results:\n",
    "\n",
    "        # Date Added\n",
    "        #XML += '  <category domain=\"pa_date\" nicename=\"' + df.iloc[rec][\"Date Added\"] + '\"><![CDATA[' + df.iloc[rec][\"Date Added\"] + ']]></category>\\n'\n",
    "        # BL Dataset Provider\n",
    "        #XML += '  <category domain=\"pa_bldatasetprovider\" nicename=\"' + df.iloc[rec][\"BL Dataset Provider\"].replace(\" \", \"\").lower() + '\"><![CDATA[' + df.iloc[rec][\"BL Dataset Provider\"] + ']]></category>\\n'  \n",
    "        #Rights Assessment    \n",
    "        #XML += '  <category domain=\"pa_rightsassessment\" nicename=\"' + df.iloc[rec][\"Rights Assessment\"].replace(\" \", \"\").lower() + '\"><![CDATA[' + df.iloc[rec][\"Rights Assessment\"] + ']]></category>\\n'    \n",
    "        #Location    \n",
    "        #XML += '  <category domain=\"pa_location\" nicename=\"' + df.iloc[rec][\"Location\"].replace(\" \", \"\").lower() + '\"><![CDATA[' + df.iloc[rec][\"Location\"] + ']]></category>\\n'    \n",
    "        #Availability Status\n",
    "        #XML += '  <category domain=\"pa_availabilitystatus\" nicename=\"' + df.iloc[rec][\"Availability Status\"].replace(\" \", \"\").lower() + '\"><![CDATA[' + df.iloc[rec][\"Availability Status\"] + ']]></category>\\n' \n",
    "\n",
    "        i = 0\n",
    "        for Taxonomy in Taxonomy_Array:\n",
    "            if Taxonomy == '1':\n",
    "                XML += ' <category domain=\"'+ WP_Import_Fields_Array[i] +'\" nicename=\"' + str(df.iloc[rec][BL_SP_Fields_Array[i]]).replace(\" \", \"\").replace(\"nan\", \"\").lower() + '\"><![CDATA[' + str(df.iloc[rec][BL_SP_Fields_Array[i]]).replace(\"nan\", \"\") + ']]></category>\\n'\n",
    "            i += 1\n",
    "\n",
    "\n",
    "        ## Products Atributes (ALL, except the Title):\n",
    "\n",
    "        XML += '  <wp:postmeta>\\n    <wp:meta_key>pa_idea_dataset</wp:meta_key>\\n    <wp:meta_value><![CDATA[' + str(df.iloc[rec][\"IDEA Which Dataset\"]) + ']]>\\n  </wp:meta_value>\\n  </wp:postmeta>\\n'\n",
    "        XML += '  <wp:postmeta>\\n    <wp:meta_key>idea_dataset_ent_part</wp:meta_key>\\n    <wp:meta_value><![CDATA[' + str(df.iloc[rec][\"IDEA Entire Dataset or Part\"]) + ']]>\\n  </wp:meta_value>\\n  </wp:postmeta>\\n'\n",
    "        XML += '  <wp:postmeta>\\n    <wp:meta_key>idea_other_dataset</wp:meta_key>\\n    <wp:meta_value><![CDATA[' + str(df.iloc[rec][\"IDEA Other Dataset Name\"]) + ']]>\\n  </wp:meta_value>\\n  </wp:postmeta>\\n'\n",
    "        XML += '  <wp:postmeta>\\n    <wp:meta_key>pa_idea_intended_use</wp:meta_key>\\n    <wp:meta_value><![CDATA[' + str(df.iloc[rec][\"IDEA Intend Use\"]) + ']]>\\n  </wp:meta_value>\\n  </wp:postmeta>\\n'\n",
    "        XML += '  <wp:postmeta>\\n    <wp:meta_key>idea_your_skills</wp:meta_key>\\n    <wp:meta_value><![CDATA[' + str(df.iloc[rec][\"IDEA Your Skills\"]) + ']]>\\n  </wp:meta_value>\\n  </wp:postmeta>\\n'\n",
    "        XML += '  <wp:postmeta>\\n    <wp:meta_key>idea_start_date</wp:meta_key>\\n    <wp:meta_value><![CDATA[' + str(df.iloc[rec][\"IDEA Start Date\"]) + ']]>\\n  </wp:meta_value>\\n  </wp:postmeta>\\n'\n",
    "        XML += '  <wp:postmeta>\\n    <wp:meta_key>idea_deadline</wp:meta_key>\\n    <wp:meta_value><![CDATA[' + str(df.iloc[rec][\"IDEA Deadline\"]) + ']]>\\n  </wp:meta_value>\\n  </wp:postmeta>\\n'\n",
    "        XML += '  <wp:postmeta>\\n    <wp:meta_key>idea_details</wp:meta_key>\\n    <wp:meta_value><![CDATA[' + str(df.iloc[rec][\"IDEA Project Details\"]) + ']]>\\n  </wp:meta_value>\\n  </wp:postmeta>\\n'\n",
    "        XML += '  <wp:postmeta>\\n    <wp:meta_key>idea_help_needed</wp:meta_key>\\n    <wp:meta_value><![CDATA[' + str(df.iloc[rec][\"IDEA Help Needed\"]) + ']]>\\n  </wp:meta_value>\\n  </wp:postmeta>\\n'\n",
    "        XML += '  <wp:postmeta>\\n    <wp:meta_key>pa_idea_looking_collaborator</wp:meta_key>\\n    <wp:meta_value><![CDATA[' + str(df.iloc[rec][\"IDEA Looking for Collaborators (Y/N)\"]) + ']]>\\n  </wp:meta_value>\\n  </wp:postmeta>\\n'\n",
    "        XML += '  <wp:postmeta>\\n    <wp:meta_key>idea_looking_collaborators</wp:meta_key>\\n    <wp:meta_value><![CDATA[' + str(df.iloc[rec][\"IDEA Looking for Collaborators / Partners\"]) + ']]>\\n  </wp:meta_value>\\n  </wp:postmeta>\\n'\n",
    "        XML += '  <wp:postmeta>\\n    <wp:meta_key>idea_promo_needed</wp:meta_key>\\n    <wp:meta_value><![CDATA[' + str(df.iloc[rec][\"IDEA Promotion Needed\"]) + ']]>\\n  </wp:meta_value>\\n  </wp:postmeta>\\n'\n",
    "        XML += '  <wp:postmeta>\\n    <wp:meta_key>pa_idea_funding_status</wp:meta_key>\\n    <wp:meta_value><![CDATA[' + str(df.iloc[rec][\"IDEA Funding Status\"]) + ']]>\\n  </wp:meta_value>\\n  </wp:postmeta>\\n'\n",
    "        XML += '  <wp:postmeta>\\n    <wp:meta_key>idea_funding_details</wp:meta_key>\\n    <wp:meta_value><![CDATA[' + str(df.iloc[rec][\"IDEA Funding Details\"]) + ']]>\\n  </wp:meta_value>\\n  </wp:postmeta>\\n'\n",
    "        XML += '  <wp:postmeta>\\n    <wp:meta_key>idea_submitted_by</wp:meta_key>\\n    <wp:meta_value><![CDATA[' + str(df.iloc[rec][\"IDEA Submitted by\"]) + ']]>\\n  </wp:meta_value>\\n  </wp:postmeta>\\n'\n",
    "        XML += '  <wp:postmeta>\\n    <wp:meta_key>idea_institution</wp:meta_key>\\n    <wp:meta_value><![CDATA[' + str(df.iloc[rec][\"Institution\"]) + ']]>\\n  </wp:meta_value>\\n  </wp:postmeta>\\n'\n",
    "        XML += '  <wp:postmeta>\\n    <wp:meta_key>idea_members_partners</wp:meta_key>\\n    <wp:meta_value><![CDATA[' + str(df.iloc[rec][\"IDEA Current team members and/or partners\"]) + ']]>\\n  </wp:meta_value>\\n  </wp:postmeta>\\n'\n",
    "        #Attributes /encoded\n",
    "\n",
    "        XML += '  <wp:postmeta>\\n\t<wp:meta_key>_product_attributes</wp:meta_key>\\n\t<wp:meta_value><![CDATA[a:' + str(atributes(rec)[1]) + ':' + atributes(rec)[0] + '}]]></wp:meta_value>\\n</wp:postmeta>\\n'\n",
    "\n",
    "        #link to record source (Official URL)\n",
    "    #   XML += '  <wp:postmeta>\\n    <wp:meta_key>_product_url</wp:meta_key>\\n    <wp:meta_value><![CDATA[' + str(df.iloc[rec][\"Official URL\"]) + ']]></wp:meta_value>\\n  </wp:postmeta>\\n'\n",
    "\n",
    "        #Button Text (\"access\")\n",
    "        XML += '  <wp:postmeta>\\n    <wp:meta_key>_button_text</wp:meta_key>\\n    <wp:meta_value><![CDATA[Details]]></wp:meta_value>\\n  </wp:postmeta>\\n'\n",
    "\n",
    "        XML += '</item>\\n'\n",
    "        nrec += 1\n",
    "    \n",
    "XML += '  </channel>\\n</rss>'"
   ]
  },
  {
   "cell_type": "markdown",
   "metadata": {},
   "source": [
    "# -----------------------------------------------------------------------------------------\n",
    "\n",
    "### Import the records -- we don't even need to save the XML to a file:\n",
    "\n",
    "1) Using WinSCP open the import.xml file from the server hosting the WordPress container (e.g., /data/dockers/labs/import.xml);\n",
    "\n",
    "2) Copy the XML, output of the bellow cell, and paste into that file (output from cell bellow was cleared because it's long to display sat GitHub and doesn't render correctly):"
   ]
  },
  {
   "cell_type": "code",
   "execution_count": null,
   "metadata": {},
   "outputs": [],
   "source": [
    "print(XML)"
   ]
  },
  {
   "cell_type": "markdown",
   "metadata": {},
   "source": [
    "3) Save the file (it will automatically upload / update it at the server);\n",
    "\n",
    "4) Copy the file from the host file system to the container, and run the following command line via a SSH session to the server OR via WinSCP menu: \"Commands\" > \"Open Terminal\":\n",
    "\n",
    "```bash    \n",
    "sudo docker cp /data/dockers/labs/import.xml wplabs:/var/www/html/; sudo docker exec wplabs bash -c 'cd /var/www/html/ && wp import import.xml --allow-root --authors=skip &'\n",
    "```\n",
    "    \n",
    "5) Entries loaded: as a final step, we need to \"Regenerate the product attributes lookup table\" to make sure the attributes are working for displaying and filtering (WooCommerce > Status > Tools > Regenerate the product attributes lookup table > (leave the dropbox blank for all the products ) > Regenerate  \n",
    "\n",
    "    Note: this may take some time (later you can double-check it suceeded via the \"Scheduled Actions\" page / list / report)."
   ]
  }
 ],
 "metadata": {
  "kernelspec": {
   "display_name": "Python 3",
   "language": "python",
   "name": "python3"
  },
  "language_info": {
   "codemirror_mode": {
    "name": "ipython",
    "version": 3
   },
   "file_extension": ".py",
   "mimetype": "text/x-python",
   "name": "python",
   "nbconvert_exporter": "python",
   "pygments_lexer": "ipython3",
   "version": "3.7.3"
  }
 },
 "nbformat": 4,
 "nbformat_minor": 2
}
