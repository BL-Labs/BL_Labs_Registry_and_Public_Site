{
 "cells": [
  {
   "cell_type": "markdown",
   "metadata": {},
   "source": [
    "# SharePoint to WordPress: Projects\n",
    "\n",
    "This notebook generates an XML ready to be imported into WordPress, Projects as products on Woocommerce, with all the Taxonomy of the Attributes associated with Projects encoded such as WordPress import requires."
   ]
  },
  {
   "cell_type": "code",
   "execution_count": 40,
   "metadata": {},
   "outputs": [],
   "source": [
    "import pandas as pd\n",
    "import json"
   ]
  },
  {
   "cell_type": "code",
   "execution_count": 41,
   "metadata": {},
   "outputs": [],
   "source": [
    "filename = \"2. Completed Projects.csv\"\n",
    "df = pd.read_csv(filename, low_memory=False)"
   ]
  },
  {
   "cell_type": "code",
   "execution_count": 43,
   "metadata": {},
   "outputs": [
    {
     "data": {
      "text/plain": [
       "34"
      ]
     },
     "execution_count": 43,
     "metadata": {},
     "output_type": "execute_result"
    }
   ],
   "source": [
    "#Check fields here: https://bluk-my.sharepoint.com/:x:/g/personal/filipe_bento_bl_uk/EWgJmoinfANOjBfhI6sfPqAB8sOLBqLA-6ZhGbk--QGsWQ\n",
    "\n",
    "#BL_SP_Fields = 'Title,Status,Team/Department,Collab with,Category,Code Location,Outcome,Contact (BL),IT Lead (BL),IT Lead (External),Other People,Project Goal,Project Info,Re-Usable?,Dataset Used,Dataset Notes,Funding,External Partners,Doc. available?,Doc. Notes,Doc. Link,Online Articles (External),Scholarly Article?,Derivative Data?,Attachments,Released,Release Version,Released by'\n",
    "BL_SP_Fields = 'Title,Status,Team/Department,Partners,Category,Outcome,Project Goal,Project Summary,Re-Usable?,Non Re-Usable Reasons,Code Location,Code URL,Project URL,Contact (BL),IT Lead (BL),IT Lead (External),Project Team,Dataset Used,Dataset Notes,Usage,Funded,Funding,External Partners,Doc. available?,Doc. Notes,Doc. Link,Online Articles (External),Scholarly Article?,Derivative Data?,Attachments,Released,Release Version,Released by,Project Dates'\n",
    "\n",
    "#WP_Import_Fields = 'pr_title,pa_pr_status,pa_pr_team,pr_collab_with,pa_pr_category,pa_pr_code_location,pa_pr_outcome,pr_contact_bl,pr_it_lead_bl,pr_it_lead_external,pr_other_people,pr_project_goal,pr_project_info,pa_pr_reusable,pa_pr_dataset_used,pr_dataset_notes,pa_pr_funding,pr_external_partners,pr_doc_available,pr_doc_notes,pr_doc_link,pr_online_articles_external,pr_scholarly_articles,pr_derivative_data,pr_attachments,pr_released,pr_release_version,pr_released_by'\n",
    "WP_Import_Fields = 'pr_title,pa_pr_status,pa_pr_team,pr_collab_with,pa_pr_category,pa_pr_outcome,pr_project_goal,pr_project_info,pa_pr_reusable,pr_reusable_reasons,pa_pr_code_location,pr_code_url,pr_main_url,pr_contact_bl,pr_it_lead_bl,pr_it_lead_external,pr_proj_team,pa_pr_dataset_used,pr_dataset_notes,pr_usage,pa_pr_funded,pa_pr_funding,pr_external_partners,pr_doc_available,pr_doc_notes,pr_doc_link,pr_online_articles_external,pr_scholarly_articles,pr_derivative_data,pr_attachments,pr_released,pr_release_version,pr_released_by,pr_dates'\n",
    "\n",
    "#Taxonomy = '0,1,1,0,1,1,1,0,0,0,0,0,0,1,1,0,1,0,0,0,0,0,0,0,0,0,0,0'\n",
    "Taxonomy = '0,1,1,0,1,1,0,0,1,0,1,0,0,0,0,0,0,1,0,0,1,1,0,0,0,0,0,0,0,0,0,0,0,0'\n",
    "\n",
    "BL_SP_Fields_Array = BL_SP_Fields.split(\",\")\n",
    "WP_Import_Fields_Array = WP_Import_Fields.split(\",\")\n",
    "Taxonomy_Array = Taxonomy.split(\",\")\n",
    "\n",
    "len(WP_Import_Fields_Array)"
   ]
  },
  {
   "cell_type": "code",
   "execution_count": 44,
   "metadata": {},
   "outputs": [],
   "source": [
    "def atributes(rec):\n",
    "\n",
    "    Atrib = '{'\n",
    "\n",
    "    natrib = 0 #number of attributes\n",
    "\n",
    "    i = 0\n",
    "    for field in WP_Import_Fields_Array:\n",
    "        if i > 0: #excluding the Title\n",
    "            if str(df.iloc[rec][BL_SP_Fields_Array[i]]).replace(\"nan\", \"\") != '':\n",
    "                if Taxonomy_Array[i] == '1':\n",
    "                    Atrib += 's:' + str(len(field)) + ':\"' + field.replace(\" \", \"-\").lower() + '\";a:6:{s:4:\"name\";s:' + str(len(field)) + ':\"' + field.replace(\" \", \"-\").lower() + '\";s:5:\"value\";s:' + str(len(str(df.iloc[rec][BL_SP_Fields_Array[i]]).replace(\"nan\", \"\"))) + ':\"' + str(df.iloc[rec][BL_SP_Fields_Array[i]]).replace(\"nan\", \"\") + '\";s:8:\"position\";i:'+ str(natrib) +';s:10:\"is_visible\";i:1;s:12:\"is_variation\";i:0;s:11:\"is_taxonomy\";i:' + Taxonomy_Array[i] + ';}'\n",
    "                else:\n",
    "                    Atrib += 's:' + str(len(field)) + ':\"' + field.replace(\" \", \"-\").lower() + '\";a:6:{s:4:\"name\";s:' + str(len(BL_SP_Fields_Array[i])) + ':\"' + BL_SP_Fields_Array[i] + '\";s:5:\"value\";s:' + str(len(str(df.iloc[rec][BL_SP_Fields_Array[i]]).replace(\"nan\", \"\"))) + ':\"' + str(df.iloc[rec][BL_SP_Fields_Array[i]]).replace(\"nan\", \"\") + '\";s:8:\"position\";i:'+ str(natrib) +';s:10:\"is_visible\";i:1;s:12:\"is_variation\";i:0;s:11:\"is_taxonomy\";i:' + Taxonomy_Array[i] + ';}'\n",
    "                natrib += 1\n",
    "        i += 1\n",
    "    \n",
    "    return Atrib,natrib"
   ]
  },
  {
   "cell_type": "code",
   "execution_count": 45,
   "metadata": {},
   "outputs": [
    {
     "name": "stdout",
     "output_type": "stream",
     "text": [
      "0 Labs Project\n"
     ]
    }
   ],
   "source": [
    "#df = df.reset_index()  # make sure indexes pair with number of rows\n",
    "\n",
    "i = 0\n",
    "for rec, row in df.iterrows():\n",
    "    print(i, row['Title'])\n",
    "    i += 1\n"
   ]
  },
  {
   "cell_type": "code",
   "execution_count": 46,
   "metadata": {},
   "outputs": [
    {
     "data": {
      "text/plain": [
       "('{s:12:\"pa_pr_status\";a:6:{s:4:\"name\";s:12:\"pa_pr_status\";s:5:\"value\";s:3:\"New\";s:8:\"position\";i:0;s:10:\"is_visible\";i:1;s:12:\"is_variation\";i:0;s:11:\"is_taxonomy\";i:1;}s:14:\"pa_pr_category\";a:6:{s:4:\"name\";s:14:\"pa_pr_category\";s:5:\"value\";s:66:\"[\"Educational / Academic Research\",\"Creative Industries\",\"Coding\"]\";s:8:\"position\";i:1;s:10:\"is_visible\";i:1;s:12:\"is_variation\";i:0;s:11:\"is_taxonomy\";i:1;}s:13:\"pa_pr_outcome\";a:6:{s:4:\"name\";s:13:\"pa_pr_outcome\";s:5:\"value\";s:89:\"[\"Data Enrichment\",\"Academic Publication(s)\",\"Other (please specify in Project Summary)\"]\";s:8:\"position\";i:2;s:10:\"is_visible\";i:1;s:12:\"is_variation\";i:0;s:11:\"is_taxonomy\";i:1;}s:15:\"pr_project_goal\";a:6:{s:4:\"name\";s:12:\"Project Goal\";s:5:\"value\";s:17:\"Achieve\\nhappiness\";s:8:\"position\";i:3;s:10:\"is_visible\";i:1;s:12:\"is_variation\";i:0;s:11:\"is_taxonomy\";i:0;}s:15:\"pr_project_info\";a:6:{s:4:\"name\";s:15:\"Project Summary\";s:5:\"value\";s:34:\"This is the summary This is line\\n2\";s:8:\"position\";i:4;s:10:\"is_visible\";i:1;s:12:\"is_variation\";i:0;s:11:\"is_taxonomy\";i:0;}s:14:\"pa_pr_reusable\";a:6:{s:4:\"name\";s:14:\"pa_pr_reusable\";s:5:\"value\";s:23:\"Yes, with specific data\";s:8:\"position\";i:5;s:10:\"is_visible\";i:1;s:12:\"is_variation\";i:0;s:11:\"is_taxonomy\";i:1;}s:11:\"pr_code_url\";a:6:{s:4:\"name\";s:8:\"Code URL\";s:5:\"value\";s:34:\"https://bluk.sharepoint.com/sites/\";s:8:\"position\";i:6;s:10:\"is_visible\";i:1;s:12:\"is_variation\";i:0;s:11:\"is_taxonomy\";i:0;}s:11:\"pr_main_url\";a:6:{s:4:\"name\";s:11:\"Project URL\";s:5:\"value\";s:36:\"https://bluk.sharepoint.com/sites/BQ\";s:8:\"position\";i:7;s:10:\"is_visible\";i:1;s:12:\"is_variation\";i:0;s:11:\"is_taxonomy\";i:0;}s:19:\"pr_it_lead_external\";a:6:{s:4:\"name\";s:18:\"IT Lead (External)\";s:5:\"value\";s:2:\"Me\";s:8:\"position\";i:8;s:10:\"is_visible\";i:1;s:12:\"is_variation\";i:0;s:11:\"is_taxonomy\";i:0;}s:12:\"pr_proj_team\";a:6:{s:4:\"name\";s:12:\"Project Team\";s:5:\"value\";s:27:\"Daneil sdfsdf sdfsdfs\\ndfdfd\";s:8:\"position\";i:9;s:10:\"is_visible\";i:1;s:12:\"is_variation\";i:0;s:11:\"is_taxonomy\";i:0;}s:18:\"pa_pr_dataset_used\";a:6:{s:4:\"name\";s:18:\"pa_pr_dataset_used\";s:5:\"value\";s:18:\"Early Music Online\";s:8:\"position\";i:10;s:10:\"is_visible\";i:1;s:12:\"is_variation\";i:0;s:11:\"is_taxonomy\";i:1;}s:8:\"pr_usage\";a:6:{s:4:\"name\";s:5:\"Usage\";s:5:\"value\";s:30:\"Commercial, earn lots of money\";s:8:\"position\";i:11;s:10:\"is_visible\";i:1;s:12:\"is_variation\";i:0;s:11:\"is_taxonomy\";i:0;}s:12:\"pa_pr_funded\";a:6:{s:4:\"name\";s:12:\"pa_pr_funded\";s:5:\"value\";s:3:\"Sim\";s:8:\"position\";i:12;s:10:\"is_visible\";i:1;s:12:\"is_variation\";i:0;s:11:\"is_taxonomy\";i:1;}s:13:\"pa_pr_funding\";a:6:{s:4:\"name\";s:13:\"pa_pr_funding\";s:5:\"value\";s:18:\"AB/2342343534/2033\";s:8:\"position\";i:13;s:10:\"is_visible\";i:1;s:12:\"is_variation\";i:0;s:11:\"is_taxonomy\";i:1;}s:20:\"pr_external_partners\";a:6:{s:4:\"name\";s:17:\"External Partners\";s:5:\"value\";s:13:\"Univ A Univ B\";s:8:\"position\";i:14;s:10:\"is_visible\";i:1;s:12:\"is_variation\";i:0;s:11:\"is_taxonomy\";i:0;}s:11:\"pr_doc_link\";a:6:{s:4:\"name\";s:9:\"Doc. Link\";s:5:\"value\";s:37:\"https://bluk.sharepoint.com/sites/abc\";s:8:\"position\";i:15;s:10:\"is_visible\";i:1;s:12:\"is_variation\";i:0;s:11:\"is_taxonomy\";i:0;}s:14:\"pr_attachments\";a:6:{s:4:\"name\";s:11:\"Attachments\";s:5:\"value\";s:1:\"0\";s:8:\"position\";i:16;s:10:\"is_visible\";i:1;s:12:\"is_variation\";i:0;s:11:\"is_taxonomy\";i:0;}s:8:\"pr_dates\";a:6:{s:4:\"name\";s:13:\"Project Dates\";s:5:\"value\";s:17:\"2923/01 - 4334/05\";s:8:\"position\";i:17;s:10:\"is_visible\";i:1;s:12:\"is_variation\";i:0;s:11:\"is_taxonomy\";i:0;}',\n",
       " 18)"
      ]
     },
     "execution_count": 46,
     "metadata": {},
     "output_type": "execute_result"
    }
   ],
   "source": [
    "atributes(0)"
   ]
  },
  {
   "cell_type": "code",
   "execution_count": 47,
   "metadata": {},
   "outputs": [
    {
     "name": "stdout",
     "output_type": "stream",
     "text": [
      "Current date and time : \n",
      "Wed, 21 Dec 2022 15:07:13 +0000\n"
     ]
    }
   ],
   "source": [
    "# we need this for the PubDate of \"posts\" to import: <pubDate>Mon, 20 Jun 2022 15:48:09 +0000</pubDate>\n",
    "\n",
    "import datetime\n",
    "now = datetime.datetime.now()\n",
    "print (\"Current date and time : \")\n",
    "print (now.strftime(\"%a, %d %b %Y %H:%M:%S +0000\")) # see https://strftime.org/"
   ]
  },
  {
   "cell_type": "code",
   "execution_count": 48,
   "metadata": {},
   "outputs": [
    {
     "name": "stdout",
     "output_type": "stream",
     "text": [
      "0 Labs Project\n"
     ]
    }
   ],
   "source": [
    "XML = '<?xml version=\"1.0\" encoding=\"UTF-8\"?>\\n<rss version=\"2.0\" xmlns:excerpt=\"http://wordpress.org/export/1.2/excerpt/\" xmlns:content=\"http://purl.org/rss/1.0/modules/content/\" xmlns:wfw=\"http://wellformedweb.org/CommentAPI/\" xmlns:dc=\"http://purl.org/dc/elements/1.1/\" xmlns:wp=\"http://wordpress.org/export/1.2/\">\\n  <channel>\\n<title>BL Labs</title>\\n<link>http://labs.biblios.tech</link>\\n<description>Experiment with British Library\\'s Digital Collections and Data</description>\\n<pubDate>' + now.strftime(\"%a, %d %b %Y %H:%M:%S +0000\") + '</pubDate>\\n<language>en-GB</language>\\n<wp:wxr_version>1.2</wp:wxr_version>\\n<wp:base_site_url>http://labs.biblios.tech</wp:base_site_url>\\n<wp:base_blog_url>http://labs.biblios.tech</wp:base_blog_url>\\n<wp:author>\\n  <wp:author_id>1</wp:author_id>\\n  <wp:author_login>bladmin</wp:author_login>\\n  <wp:author_email>british.library.labs@gmail.com</wp:author_email>\\n  <wp:author_display_name><![CDATA[BL Labs]]></wp:author_display_name>\\n  <wp:author_first_name><![CDATA[BL]]></wp:author_first_name>\\n  <wp:author_last_name><![CDATA[labs]]></wp:author_last_name>\\n</wp:author>\\n<wp:author>\\n  <wp:author_id>2</wp:author_id>\\n  <wp:author_login>filipe</wp:author_login>\\n  <wp:author_email>filipe.bento@bl.uk</wp:author_email>\\n  <wp:author_display_name><![CDATA[Filipe Bento]]></wp:author_display_name>\\n  <wp:author_first_name><![CDATA[Filipe]]></wp:author_first_name>\\n  <wp:author_last_name><![CDATA[Bento]]></wp:author_last_name>\\n</wp:author>\\n'\n",
    "\n",
    "nrec = 0\n",
    "\n",
    "for rec, row in df.iterrows():\n",
    "    print(nrec, row['Title'])\n",
    "    \n",
    "    # Dataset Title\n",
    "    XML += '<item>\\n  <title><![CDATA['+ str(df.iloc[rec][\"Title\"]) +']]></title>\\n  <dc:creator>filipe</dc:creator>\\n'\n",
    "\n",
    "    # Short Description\n",
    "    XML += '  <excerpt:encoded><![CDATA['+ str(df.iloc[rec][\"Project Goal\"]) + '\\n\\n' + str(df.iloc[rec][\"Project Summary\"]) +']]></excerpt:encoded>\\n'\n",
    "\n",
    "    XML += '  <wp:post_type><![CDATA[product]]></wp:post_type>\\n  <wp:status><![CDATA[publish]]></wp:status>\\n   <wp:comment_status>closed</wp:comment_status>\\n   <wp:is_sticky>0</wp:is_sticky>\\n'\n",
    "    XML += '  <category domain=\"product_cat\" nicename=\"projects\"><![CDATA[Projects]]></category>\\n'\n",
    "    XML += '  <category domain=\"product_type\" nicename=\"simple\"><![CDATA[simple]]></category>\\n'\n",
    "\n",
    "    # keywords / tags\n",
    "#    kws = str(df.iloc[rec][\"Keywords\"]).split(\", \")\n",
    "#    for kw in kws:\n",
    "#        XML += '  <category domain=\"product_tag\" nicename=\"'+ kw.replace(\" \", \"\") + '\"><![CDATA['+ kw +']]></category>\\n'\n",
    "\n",
    "\n",
    "    ## Products Atributes used to FILTER results:\n",
    "\n",
    "    # Date Added\n",
    "    #XML += '  <category domain=\"pa_date\" nicename=\"' + df.iloc[rec][\"Date Added\"] + '\"><![CDATA[' + df.iloc[rec][\"Date Added\"] + ']]></category>\\n'\n",
    "    # BL Dataset Provider\n",
    "    #XML += '  <category domain=\"pa_bldatasetprovider\" nicename=\"' + df.iloc[rec][\"BL Dataset Provider\"].replace(\" \", \"\").lower() + '\"><![CDATA[' + df.iloc[rec][\"BL Dataset Provider\"] + ']]></category>\\n'  \n",
    "    #Rights Assessment    \n",
    "    #XML += '  <category domain=\"pa_rightsassessment\" nicename=\"' + df.iloc[rec][\"Rights Assessment\"].replace(\" \", \"\").lower() + '\"><![CDATA[' + df.iloc[rec][\"Rights Assessment\"] + ']]></category>\\n'    \n",
    "    #Location    \n",
    "    #XML += '  <category domain=\"pa_location\" nicename=\"' + df.iloc[rec][\"Location\"].replace(\" \", \"\").lower() + '\"><![CDATA[' + df.iloc[rec][\"Location\"] + ']]></category>\\n'    \n",
    "    #Availability Status\n",
    "    #XML += '  <category domain=\"pa_availabilitystatus\" nicename=\"' + df.iloc[rec][\"Availability Status\"].replace(\" \", \"\").lower() + '\"><![CDATA[' + df.iloc[rec][\"Availability Status\"] + ']]></category>\\n' \n",
    "\n",
    "    i = 0\n",
    "    for Taxonomy in Taxonomy_Array:\n",
    "        if Taxonomy == '1':\n",
    "            XML += ' <category domain=\"'+ WP_Import_Fields_Array[i] +'\" nicename=\"' + str(df.iloc[rec][BL_SP_Fields_Array[i]]).replace(\" \", \"\").replace(\"nan\", \"\").lower() + '\"><![CDATA[' + str(df.iloc[rec][BL_SP_Fields_Array[i]]).replace(\"nan\", \"\") + ']]></category>\\n'\n",
    "        i += 1\n",
    "\n",
    "\n",
    "    ## Products Atributes (ALL, except the Title):\n",
    "\n",
    "    XML += '  <wp:postmeta>\\n    <wp:meta_key>pa_pr_status</wp:meta_key>\\n    <wp:meta_value><![CDATA[' + str(df.iloc[rec][\"Status\"]) + ']]>\\n  </wp:meta_value>\\n  </wp:postmeta>\\n'\n",
    "    XML += '  <wp:postmeta>\\n    <wp:meta_key>pa_pr_team</wp:meta_key>\\n    <wp:meta_value><![CDATA[' + str(df.iloc[rec][\"Team/Department\"]) + ']]>\\n  </wp:meta_value>\\n  </wp:postmeta>\\n'\n",
    "    XML += '  <wp:postmeta>\\n    <wp:meta_key>pr_collab_with</wp:meta_key>\\n    <wp:meta_value><![CDATA[' + str(df.iloc[rec][\"Partners\"]) + ']]>\\n  </wp:meta_value>\\n  </wp:postmeta>\\n'\n",
    "    XML += '  <wp:postmeta>\\n    <wp:meta_key>pa_pr_category</wp:meta_key>\\n    <wp:meta_value><![CDATA[' + str(df.iloc[rec][\"Category\"]) + ']]>\\n  </wp:meta_value>\\n  </wp:postmeta>\\n'\n",
    "    XML += '  <wp:postmeta>\\n    <wp:meta_key>pr_outcome</wp:meta_key>\\n    <wp:meta_value><![CDATA[' + str(df.iloc[rec][\"Outcome\"]) + ']]>\\n  </wp:meta_value>\\n  </wp:postmeta>\\n'\n",
    "    XML += '  <wp:postmeta>\\n    <wp:meta_key>pa_pr_code_location</wp:meta_key>\\n    <wp:meta_value><![CDATA[' + str(df.iloc[rec][\"Code Location\"]) + ']]>\\n  </wp:meta_value>\\n  </wp:postmeta>\\n'\t\n",
    "    XML += '  <wp:postmeta>\\n    <wp:meta_key>pr_contact_bl</wp:meta_key>\\n    <wp:meta_value><![CDATA[' + str(df.iloc[rec][\"Contact (BL)\"]) + ']]>\\n  </wp:meta_value>\\n  </wp:postmeta>\\n'\n",
    "    XML += '  <wp:postmeta>\\n    <wp:meta_key>pr_it_lead_bl</wp:meta_key>\\n    <wp:meta_value><![CDATA[' + str(df.iloc[rec][\"IT Lead (BL)\"]) + ']]>\\n  </wp:meta_value>\\n  </wp:postmeta>\\n'\n",
    "    XML += '  <wp:postmeta>\\n    <wp:meta_key>pr_it_lead_external</wp:meta_key>\\n    <wp:meta_value><![CDATA[' + str(df.iloc[rec][\"IT Lead (External)\"]) + ']]>\\n  </wp:meta_value>\\n  </wp:postmeta>\\n'\n",
    "    XML += '  <wp:postmeta>\\n    <wp:meta_key>pr_other_people</wp:meta_key>\\n    <wp:meta_value><![CDATA[' + str(df.iloc[rec][\"Project Team\"]) + ']]>\\n  </wp:meta_value>\\n  </wp:postmeta>\\n'\n",
    "    XML += '  <wp:postmeta>\\n    <wp:meta_key>pr_project_goal</wp:meta_key>\\n    <wp:meta_value><![CDATA[' + str(df.iloc[rec][\"Project Goal\"]) + ']]>\\n  </wp:meta_value>\\n  </wp:postmeta>\\n'\n",
    "    XML += '  <wp:postmeta>\\n    <wp:meta_key>pr_project_info</wp:meta_key>\\n    <wp:meta_value><![CDATA[' + str(df.iloc[rec][\"Project Summary\"]) + ']]>\\n  </wp:meta_value>\\n  </wp:postmeta>\\n'\n",
    "    XML += '  <wp:postmeta>\\n    <wp:meta_key>pa_pr_reusable</wp:meta_key>\\n    <wp:meta_value><![CDATA[' + str(df.iloc[rec][\"Re-Usable?\"]) + ']]>\\n  </wp:meta_value>\\n  </wp:postmeta>\\n'\t\n",
    "    XML += '  <wp:postmeta>\\n    <wp:meta_key>pa_pr_dataset_used</wp:meta_key>\\n    <wp:meta_value><![CDATA[' + str(df.iloc[rec][\"Dataset Used\"]) + ']]>\\n  </wp:meta_value>\\n  </wp:postmeta>\\n'\t\n",
    "    XML += '  <wp:postmeta>\\n    <wp:meta_key>pr_dataset_notes</wp:meta_key>\\n    <wp:meta_value><![CDATA[' + str(df.iloc[rec][\"Dataset Notes\"]) + ']]>\\n  </wp:meta_value>\\n  </wp:postmeta>\\n'\n",
    "    XML += '  <wp:postmeta>\\n    <wp:meta_key>pr_funding</wp:meta_key>\\n    <wp:meta_value><![CDATA[' + str(df.iloc[rec][\"Funding\"]) + ']]>\\n  </wp:meta_value>\\n  </wp:postmeta>\\n'\n",
    "    XML += '  <wp:postmeta>\\n    <wp:meta_key>pr_external_partners</wp:meta_key>\\n    <wp:meta_value><![CDATA[' + str(df.iloc[rec][\"External Partners\"]) + ']]>\\n  </wp:meta_value>\\n  </wp:postmeta>\\n'\n",
    "    XML += '  <wp:postmeta>\\n    <wp:meta_key>pr_doc_available</wp:meta_key>\\n    <wp:meta_value><![CDATA[' + str(df.iloc[rec][\"Doc. available?\"]) + ']]>\\n  </wp:meta_value>\\n  </wp:postmeta>\\n'\n",
    "    XML += '  <wp:postmeta>\\n    <wp:meta_key>pr_doc_notes</wp:meta_key>\\n    <wp:meta_value><![CDATA[' + str(df.iloc[rec][\"Doc. Notes\"]) + ']]>\\n  </wp:meta_value>\\n  </wp:postmeta>\\n'\n",
    "    XML += '  <wp:postmeta>\\n    <wp:meta_key>pr_doc_link</wp:meta_key>\\n    <wp:meta_value><![CDATA[' + str(df.iloc[rec][\"Doc. Link\"]) + ']]>\\n  </wp:meta_value>\\n  </wp:postmeta>\\n'\n",
    "    XML += '  <wp:postmeta>\\n    <wp:meta_key>pr_online_articles_external</wp:meta_key>\\n    <wp:meta_value><![CDATA[' + str(df.iloc[rec][\"Online Articles (External)\"]) + ']]>\\n  </wp:meta_value>\\n  </wp:postmeta>\\n'\n",
    "    XML += '  <wp:postmeta>\\n    <wp:meta_key>pr_scholarly_articles</wp:meta_key>\\n    <wp:meta_value><![CDATA[' + str(df.iloc[rec][\"Scholarly Article?\"]) + ']]>\\n  </wp:meta_value>\\n  </wp:postmeta>\\n'\n",
    "    XML += '  <wp:postmeta>\\n    <wp:meta_key>pr_derivative_data</wp:meta_key>\\n    <wp:meta_value><![CDATA[' + str(df.iloc[rec][\"Derivative Data?\"]) + ']]>\\n  </wp:meta_value>\\n  </wp:postmeta>\\n'\n",
    "    XML += '  <wp:postmeta>\\n    <wp:meta_key>pr_attachments</wp:meta_key>\\n    <wp:meta_value><![CDATA[' + str(df.iloc[rec][\"Attachments\"]) + ']]>\\n  </wp:meta_value>\\n  </wp:postmeta>\\n'\n",
    "    XML += '  <wp:postmeta>\\n    <wp:meta_key>pr_released</wp:meta_key>\\n    <wp:meta_value><![CDATA[' + str(df.iloc[rec][\"Released\"]) + ']]>\\n  </wp:meta_value>\\n  </wp:postmeta>\\n'\n",
    "    XML += '  <wp:postmeta>\\n    <wp:meta_key>pr_release_version</wp:meta_key>\\n    <wp:meta_value><![CDATA[' + str(df.iloc[rec][\"Release Version\"]) + ']]>\\n  </wp:meta_value>\\n  </wp:postmeta>\\n'\n",
    "    XML += '  <wp:postmeta>\\n    <wp:meta_key>pr_released_by</wp:meta_key>\\n    <wp:meta_value><![CDATA[' + str(df.iloc[rec][\"Released by\"]) + ']]>\\n  </wp:meta_value>\\n  </wp:postmeta>\\n'\n",
    "    \n",
    "    XML += '  <wp:postmeta>\\n    <wp:meta_key>pr_reusable_reasons</wp:meta_key>\\n    <wp:meta_value><![CDATA[' + str(df.iloc[rec][\"Non Re-Usable Reasons\"]) + ']]>\\n  </wp:meta_value>\\n  </wp:postmeta>\\n'\n",
    "    XML += '  <wp:postmeta>\\n    <wp:meta_key>pr_code_url</wp:meta_key>\\n    <wp:meta_value><![CDATA[' + str(df.iloc[rec][\"Code URL\"]) + ']]>\\n  </wp:meta_value>\\n  </wp:postmeta>\\n'\n",
    "    XML += '  <wp:postmeta>\\n    <wp:meta_key>pr_usage</wp:meta_key>\\n    <wp:meta_value><![CDATA[' + str(df.iloc[rec][\"Usage\"]) + ']]>\\n  </wp:meta_value>\\n  </wp:postmeta>\\n'\n",
    "    XML += '  <wp:postmeta>\\n    <wp:meta_key>pa_pr_funded</wp:meta_key>\\n    <wp:meta_value><![CDATA[' + str(df.iloc[rec][\"Funded\"]) + ']]>\\n  </wp:meta_value>\\n  </wp:postmeta>\\n'\n",
    "    XML += '  <wp:postmeta>\\n    <wp:meta_key>pr_dates</wp:meta_key>\\n    <wp:meta_value><![CDATA[' + str(df.iloc[rec][\"Project Dates\"]) + ']]>\\n  </wp:meta_value>\\n  </wp:postmeta>\\n'\n",
    "\n",
    "    #Attributes /encoded\n",
    "\n",
    "    XML += '  <wp:postmeta>\\n\t<wp:meta_key>_product_attributes</wp:meta_key>\\n\t<wp:meta_value><![CDATA[a:' + str(atributes(rec)[1]) + ':' + atributes(rec)[0] + '}]]></wp:meta_value>\\n</wp:postmeta>\\n'\n",
    "\n",
    "    #link to record source (Official URL)\n",
    "#   XML += '  <wp:postmeta>\\n    <wp:meta_key>_product_url</wp:meta_key>\\n    <wp:meta_value><![CDATA[' + str(df.iloc[rec][\"Official URL\"]) + ']]></wp:meta_value>\\n  </wp:postmeta>\\n'\n",
    "\n",
    "    #Button Text (\"access\")\n",
    "    #XML += '  <wp:postmeta>\\n    <wp:meta_key>_button_text</wp:meta_key>\\n    <wp:meta_value><![CDATA[Access]]></wp:meta_value>\\n  </wp:postmeta>\\n'\n",
    "\n",
    "    XML += '</item>\\n'\n",
    "    nrec += 1\n",
    "    \n",
    "XML += '  </channel>\\n</rss>'"
   ]
  },
  {
   "cell_type": "markdown",
   "metadata": {},
   "source": [
    "# ------------------------------------------------------------------------------------------\n",
    "\n",
    "### Import the records -- we don't even need to save the XML to a file:\n",
    "\n",
    "1) Using WinSCP open the import.xml file from the server hosting the WordPress container (e.g., /data/dockers/labs/import.xml);\n",
    "\n",
    "2) Copy the XML, output of the bellow cell, and paste into that file (output from cell bellow was cleared because it's long to display sat GitHub and doesn't render correctly):"
   ]
  },
  {
   "cell_type": "code",
   "execution_count": null,
   "metadata": {},
   "outputs": [],
   "source": [
    "print(XML)"
   ]
  },
  {
   "cell_type": "markdown",
   "metadata": {},
   "source": [
    "3) Save the file (it will automatically upload / update it at the server);\n",
    "\n",
    "4) Copy the file from the host file system to the container, and run the following command line via a SSH session to the server OR via WinSCP menu: \"Commands\" > \"Open Terminal\":\n",
    "\n",
    "```bash    \n",
    "sudo docker cp /data/dockers/labs/import.xml wplabs:/var/www/html/; sudo docker exec wplabs bash -c 'cd /var/www/html/ && wp import import.xml --allow-root --authors=skip &'\n",
    "```    \n",
    "    \n",
    "5) Entries loaded: as a final step, we need to \"Regenerate the product attributes lookup table\" to make sure the attributes are working for displaying and filtering (WooCommerce > Status > Tools > Regenerate the product attributes lookup table > (leave the dropbox blank for all the products ) > Regenerate  \n",
    "\n",
    "    Note: this may take some time (later you can double-check it suceeded via the \"Scheduled Actions\" page / list / report)."
   ]
  }
 ],
 "metadata": {
  "kernelspec": {
   "display_name": "Python 3",
   "language": "python",
   "name": "python3"
  },
  "language_info": {
   "codemirror_mode": {
    "name": "ipython",
    "version": 3
   },
   "file_extension": ".py",
   "mimetype": "text/x-python",
   "name": "python",
   "nbconvert_exporter": "python",
   "pygments_lexer": "ipython3",
   "version": "3.7.3"
  }
 },
 "nbformat": 4,
 "nbformat_minor": 2
}
